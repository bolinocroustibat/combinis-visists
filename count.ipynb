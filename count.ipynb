{
 "cells": [
  {
   "cell_type": "code",
   "execution_count": null,
   "metadata": {},
   "outputs": [],
   "source": [
    "!pip install tqdm pandas"
   ]
  },
  {
   "cell_type": "code",
   "execution_count": null,
   "metadata": {},
   "outputs": [],
   "source": [
    "import json\n",
    "import glob, os\n",
    "import pandas as pd\n",
    "from pathlib import Path\n",
    "from tqdm import tqdm"
   ]
  },
  {
   "attachments": {},
   "cell_type": "markdown",
   "metadata": {},
   "source": [
    "## Extract the conbini visits from Google Takeout data to a single JSON file"
   ]
  },
  {
   "cell_type": "code",
   "execution_count": null,
   "metadata": {},
   "outputs": [],
   "source": [
    "GOOGLE_TAKEOUT_DATA_DIRECTORY = \"./Takeout\"\n",
    "\n",
    "files = list(Path(GOOGLE_TAKEOUT_DATA_DIRECTORY).rglob(\"Semantic Location History/*/*.json\"))\n",
    "print(len(files))"
   ]
  },
  {
   "cell_type": "code",
   "execution_count": null,
   "metadata": {},
   "outputs": [],
   "source": [
    "SEARCH_STRINGS = [\"7-eleven\", \"familymart\", \"lawson\"]"
   ]
  },
  {
   "cell_type": "code",
   "execution_count": null,
   "metadata": {},
   "outputs": [],
   "source": [
    "conbinis_visits = []\n",
    "\n",
    "for file in tqdm(files):\n",
    "    data: list[dict] = json.load(open(file))[\"timelineObjects\"]\n",
    "    for d in data:\n",
    "        if d.get(\"placeVisit\"):\n",
    "            for element in SEARCH_STRINGS:\n",
    "                if element in d[\"placeVisit\"][\"location\"].get(\"name\", \"none\").lower():\n",
    "                    clean_visit: dict = d[\"placeVisit\"]\n",
    "                    if clean_visit.get(\"otherCandidateLocations\"):\n",
    "                        del clean_visit[\"otherCandidateLocations\"]\n",
    "                    conbinis_visits.append(clean_visit)"
   ]
  },
  {
   "attachments": {},
   "cell_type": "markdown",
   "metadata": {},
   "source": [
    "### Save as JSON file"
   ]
  },
  {
   "cell_type": "code",
   "execution_count": null,
   "metadata": {},
   "outputs": [],
   "source": [
    "print(len(conbinis_visits))\n",
    "\n",
    "with open(\"conbinis_visits.json\", \"w\") as f:\n",
    "    json.dump(conbinis_visits, f, indent=2, ensure_ascii=False)"
   ]
  },
  {
   "attachments": {},
   "cell_type": "markdown",
   "metadata": {},
   "source": [
    "## Use the JSON to analyze data"
   ]
  },
  {
   "attachments": {},
   "cell_type": "markdown",
   "metadata": {},
   "source": [
    "### Load the JSON file as Pandas dataframe"
   ]
  },
  {
   "cell_type": "code",
   "execution_count": null,
   "metadata": {},
   "outputs": [],
   "source": [
    "with open('conbinis_visits.json', 'r') as f:\n",
    "    data = json.load(f)\n",
    "\n",
    "df = pd.json_normalize(data)\n",
    "df['startDatetime'] = pd.to_datetime(df['duration.startTimestamp'])\n",
    "df['endDatetime'] = pd.to_datetime(df['duration.endTimestamp'])\n",
    "df.info()"
   ]
  },
  {
   "attachments": {},
   "cell_type": "markdown",
   "metadata": {},
   "source": [
    "### Number of conbinis visits"
   ]
  },
  {
   "cell_type": "code",
   "execution_count": null,
   "metadata": {},
   "outputs": [],
   "source": [
    "len(df)"
   ]
  },
  {
   "attachments": {},
   "cell_type": "markdown",
   "metadata": {},
   "source": [
    "### Number of unique conbinis visited"
   ]
  },
  {
   "cell_type": "code",
   "execution_count": null,
   "metadata": {},
   "outputs": [],
   "source": [
    "df['location.placeId'].nunique()"
   ]
  },
  {
   "attachments": {},
   "cell_type": "markdown",
   "metadata": {},
   "source": [
    "### Earliest conbini visit"
   ]
  },
  {
   "cell_type": "code",
   "execution_count": null,
   "metadata": {},
   "outputs": [],
   "source": [
    "df.iloc[df['startDatetime'].idxmin()][['location.name', 'location.address', 'startDatetime']]"
   ]
  },
  {
   "attachments": {},
   "cell_type": "markdown",
   "metadata": {},
   "source": [
    "### Top 3 most visited conbinis"
   ]
  },
  {
   "cell_type": "code",
   "execution_count": null,
   "metadata": {},
   "outputs": [],
   "source": [
    "df2 = df[['location.placeId', 'location.name', 'location.address']].copy()\n",
    "df2 = df2.drop_duplicates(subset=[\"location.placeId\"], keep=\"first\")\n",
    "df2['visitsNb'] = df2['location.placeId'].map(df['location.placeId'].value_counts())\n",
    "df2.sort_values(by='visitsNb', ascending=False, inplace = True)\n",
    "\n",
    "df2[:3][['location.name', 'location.address', 'visitsNb']]"
   ]
  }
 ],
 "metadata": {
  "kernelspec": {
   "display_name": "Python 3",
   "language": "python",
   "name": "python3"
  },
  "language_info": {
   "codemirror_mode": {
    "name": "ipython",
    "version": 3
   },
   "file_extension": ".py",
   "mimetype": "text/x-python",
   "name": "python",
   "nbconvert_exporter": "python",
   "pygments_lexer": "ipython3",
   "version": "3.11.0"
  },
  "orig_nbformat": 4,
  "vscode": {
   "interpreter": {
    "hash": "455e48ab8a9218dfd55380626c04cc42849043f1f5c8be0da5b077dfb10009ce"
   }
  }
 },
 "nbformat": 4,
 "nbformat_minor": 2
}
